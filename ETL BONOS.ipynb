{
 "cells": [
  {
   "cell_type": "code",
   "execution_count": 1,
   "id": "dd9ad400-d5d5-4f5e-9382-8176a7b28ae8",
   "metadata": {
    "tags": []
   },
   "outputs": [
    {
     "name": "stderr",
     "output_type": "stream",
     "text": [
      "INFO:__main__:Datos cargados exitosamente en Cabecera_Payfile_Bono_Geografico de SQL. Número de filas cargadas: 35\n",
      "INFO:__main__:Datos cargados exitosamente en Detalle_Payfile_Bono_Geografico de SQL. Número de filas cargadas: 54\n",
      "INFO:__main__:Datos cargados exitosamente en Detalle_Pago_Bonos_Geografico de SQL. Número de filas cargadas: 460\n",
      "INFO:__main__:Datos cargados exitosamente en Cabecera_Payfile_Bono_Domiciliado de SQL. Número de filas cargadas: 1\n",
      "INFO:__main__:Datos cargados exitosamente en Detalle_Pago_Bonos_Domiciliado de SQL. Número de filas cargadas: 1\n",
      "INFO:__main__:Datos cargados exitosamente en Detalle_Payfile_Bono_Domiciliado de SQL. Número de filas cargadas: 1\n"
     ]
    }
   ],
   "source": [
    "import pandas as pd\n",
    "from sqlalchemy import create_engine\n",
    "import urllib\n",
    "import logging\n",
    "\n",
    "# Configuración del log\n",
    "import logging\n",
    "import urllib.parse\n",
    "from sqlalchemy import create_engine\n",
    "import pandas as pd\n",
    "\n",
    "logging.basicConfig(level=logging.INFO)\n",
    "logger = logging.getLogger(__name__)\n",
    "\n",
    "def create_sqlalchemy_engine(server, database, driver):\n",
    "    params = urllib.parse.quote_plus(\n",
    "        f\"DRIVER={{{driver}}};\"\n",
    "        f\"SERVER={server};\"\n",
    "        f\"DATABASE={database};\"\n",
    "        f\"Trusted_Connection=yes;\"\n",
    "    )\n",
    "    engine = create_engine(f\"mssql+pyodbc:///?odbc_connect={params}\")\n",
    "    return engine\n",
    "\n",
    "def load_data(file_path, sep, date_cols=None, additional_transforms=None):\n",
    "    df = pd.read_csv(file_path, sep=sep, on_bad_lines='skip')\n",
    "    if date_cols:\n",
    "        for col in date_cols:\n",
    "            df[col] = pd.to_datetime(df[col]).dt.strftime('%Y-%m-%d')\n",
    "\n",
    "   \n",
    "\n",
    "    if additional_transforms:\n",
    "        for col, value in additional_transforms.items():\n",
    "            df[col] = value\n",
    "            \n",
    "    return df\n",
    "\n",
    "def insert_to_sql(df, table_name, engine):\n",
    "    try:\n",
    "        num_rows = df.shape[0]  # Obtiene el número de filas del DataFrame\n",
    "        df.to_sql(table_name, engine, if_exists='append', index=False)\n",
    "        logger.info(f\"Datos cargados exitosamente en {table_name} de SQL. Número de filas cargadas: {num_rows}\")\n",
    "    except Exception as e:\n",
    "        logger.error(f\"Ocurrió un error al cargar datos en {table_name}: {e}\")\n",
    "\n",
    "# Configuración de la conexión a SQL Server\n",
    "server = 'SKYCONPRODB03'\n",
    "database = 'Bonos'\n",
    "driver = 'ODBC Driver 17 for SQL Server' \n",
    "engine = create_sqlalchemy_engine(server, database, driver)\n",
    "        \n",
    "\n",
    "# Información de los archivos y las tablas\n",
    "files_and_tables = {\n",
    " \"Cabecera_Payfile_Bono_Geografico\": (r'C:\\Users\\JMHERNANDEZL\\Corporacion Novavision , S. de R.L. de C.V\\Lopez Gutierrez Fabiola Gabriela - Información&Control\\Lemus\\5.Bonos\\script py\\Archivos_para_cargar_Bonos\\Cabecera_Payfile_Bono_Geografico_Semana_del_1_al_5_de_5-2024.txt',',', ['FECHA_CREACION'],{'FUENTE': 'Cabecera_Payfile_Bono_Geografico', 'SEMANA': 'Semana del 29 al 05 de 05-2024'}),\n",
    " \"Detalle_Payfile_Bono_Geografico\": (r'C:\\Users\\JMHERNANDEZL\\Corporacion Novavision , S. de R.L. de C.V\\Lopez Gutierrez Fabiola Gabriela - Información&Control\\Lemus\\5.Bonos\\script py\\Archivos_para_cargar_Bonos\\Detalle_Payfile_Bono_Geografico_Semana_del_1_al_5_de_5-2024.txt',',',None,{'FUENTE': 'Detalle_Payfile_Bono_Geografico', 'SEMANA': 'Semana del 29 al 05 de 05-2024'}),\n",
    " \"Detalle_Pago_Bonos_Geografico\": (r'C:\\Users\\JMHERNANDEZL\\Corporacion Novavision , S. de R.L. de C.V\\Lopez Gutierrez Fabiola Gabriela - Información&Control\\Lemus\\5.Bonos\\script py\\Archivos_para_cargar_Bonos\\Detalle_Pago_Bonos_Geografico_Semana_del_1_al_5_de_5-2024.txt',';',['FECHA_INICIAL', 'FECHA_FINAL', 'FECHA_CARGA', 'FECHA_VALIDACION'],{'FUENTE': 'Detalle_Pago_Bonos_Geografico', 'SEMANA': 'Semana del 29 al 05 de 05-2024'}),\n",
    " \"Cabecera_Payfile_Bono_Domiciliado\": (r'C:\\Users\\JMHERNANDEZL\\Corporacion Novavision , S. de R.L. de C.V\\Lopez Gutierrez Fabiola Gabriela - Información&Control\\Lemus\\5.Bonos\\script py\\Archivos_para_cargar_Bonos\\Cabecera_Payfile_Bono_Domiciliado_Semana_del_1_al_5_de_5-2024.txt',',',['FECHA_CREACION'],{'FUENTE': 'Cabecera_Payfile_Bono_Domiciliado', 'SEMANA': 'Semana del 29 al 05 de 05-2024'}),\n",
    " \"Detalle_Pago_Bonos_Domiciliado\": (r'C:\\Users\\JMHERNANDEZL\\Corporacion Novavision , S. de R.L. de C.V\\Lopez Gutierrez Fabiola Gabriela - Información&Control\\Lemus\\5.Bonos\\script py\\Archivos_para_cargar_Bonos\\Detalle_Pago_Bonos_Domiciliado_Semana_del_1_al_5_de_5-2024.txt',';',['FECHA_INICIAL', 'FECHA_FINAL', 'FECHA_CARGA'],{'FUENTE': 'Detalle_Pago_Bonos_Domiciliado', 'SEMANA': 'Semana del 29 al 05 de 05-2024'}),\n",
    " \"Detalle_Payfile_Bono_Domiciliado\": (r'C:\\Users\\JMHERNANDEZL\\Corporacion Novavision , S. de R.L. de C.V\\Lopez Gutierrez Fabiola Gabriela - Información&Control\\Lemus\\5.Bonos\\script py\\Archivos_para_cargar_Bonos\\Detalle_Payfile_Bono_Domiciliado_Semana_del_1_al_5_de_5-2024.txt',',',None,{'FUENTE': 'Detalle_Payfile_Bono_Domiciliado', 'SEMANA': 'Semana del 29 al 05 de 05-2024'}),\n",
    "}\n",
    "\n",
    "# Procesamiento de los archivos\n",
    "for table_name, (file_path, sep, date_cols, additional_transforms) in files_and_tables.items():\n",
    "    df = load_data(file_path, sep, date_cols, additional_transforms)\n",
    "    insert_to_sql(df, table_name, engine)"
   ]
  },
  {
   "cell_type": "code",
   "execution_count": null,
   "id": "61fb3d13-9587-4ed4-8bff-0af4074e9d8f",
   "metadata": {},
   "outputs": [],
   "source": []
  }
 ],
 "metadata": {
  "kernelspec": {
   "display_name": "Python 3 (ipykernel)",
   "language": "python",
   "name": "python3"
  },
  "language_info": {
   "codemirror_mode": {
    "name": "ipython",
    "version": 3
   },
   "file_extension": ".py",
   "mimetype": "text/x-python",
   "name": "python",
   "nbconvert_exporter": "python",
   "pygments_lexer": "ipython3",
   "version": "3.11.5"
  }
 },
 "nbformat": 4,
 "nbformat_minor": 5
}
